{
 "cells": [
  {
   "cell_type": "code",
   "execution_count": 1,
   "id": "7cc5b3db",
   "metadata": {},
   "outputs": [],
   "source": [
    "# Dependencies\n",
    "import numpy as np\n",
    "import pandas as pd\n",
    "import matplotlib.pyplot as plt\n",
    "\n",
    "from sklearn.model_selection import train_test_split\n",
    "from sklearn.preprocessing import StandardScaler\n",
    "from sklearn.decomposition import PCA\n",
    "from sklearn.manifold import TSNE\n",
    "from sklearn.cluster import KMeans"
   ]
  },
  {
   "cell_type": "markdown",
   "id": "09053a5f",
   "metadata": {},
   "source": [
    "## Part 1: Preparing the Data"
   ]
  },
  {
   "cell_type": "code",
   "execution_count": 2,
   "id": "e3ec539c",
   "metadata": {},
   "outputs": [
    {
     "data": {
      "text/html": [
       "<div>\n",
       "<style scoped>\n",
       "    .dataframe tbody tr th:only-of-type {\n",
       "        vertical-align: middle;\n",
       "    }\n",
       "\n",
       "    .dataframe tbody tr th {\n",
       "        vertical-align: top;\n",
       "    }\n",
       "\n",
       "    .dataframe thead th {\n",
       "        text-align: right;\n",
       "    }\n",
       "</style>\n",
       "<table border=\"1\" class=\"dataframe\">\n",
       "  <thead>\n",
       "    <tr style=\"text-align: right;\">\n",
       "      <th></th>\n",
       "      <th>AGE</th>\n",
       "      <th>SPHEQ</th>\n",
       "      <th>AL</th>\n",
       "      <th>ACD</th>\n",
       "      <th>LT</th>\n",
       "      <th>VCD</th>\n",
       "      <th>SPORTHR</th>\n",
       "      <th>READHR</th>\n",
       "      <th>COMPHR</th>\n",
       "      <th>STUDYHR</th>\n",
       "      <th>TVHR</th>\n",
       "      <th>DIOPTERHR</th>\n",
       "      <th>MOMMY</th>\n",
       "      <th>DADMY</th>\n",
       "      <th>MYOPIC</th>\n",
       "    </tr>\n",
       "  </thead>\n",
       "  <tbody>\n",
       "    <tr>\n",
       "      <th>0</th>\n",
       "      <td>6</td>\n",
       "      <td>-0.052</td>\n",
       "      <td>21.889999</td>\n",
       "      <td>3.690</td>\n",
       "      <td>3.498</td>\n",
       "      <td>14.70</td>\n",
       "      <td>45</td>\n",
       "      <td>8</td>\n",
       "      <td>0</td>\n",
       "      <td>0</td>\n",
       "      <td>10</td>\n",
       "      <td>34</td>\n",
       "      <td>1</td>\n",
       "      <td>1</td>\n",
       "      <td>1</td>\n",
       "    </tr>\n",
       "    <tr>\n",
       "      <th>1</th>\n",
       "      <td>6</td>\n",
       "      <td>0.608</td>\n",
       "      <td>22.379999</td>\n",
       "      <td>3.702</td>\n",
       "      <td>3.392</td>\n",
       "      <td>15.29</td>\n",
       "      <td>4</td>\n",
       "      <td>0</td>\n",
       "      <td>1</td>\n",
       "      <td>1</td>\n",
       "      <td>7</td>\n",
       "      <td>12</td>\n",
       "      <td>1</td>\n",
       "      <td>1</td>\n",
       "      <td>0</td>\n",
       "    </tr>\n",
       "    <tr>\n",
       "      <th>2</th>\n",
       "      <td>6</td>\n",
       "      <td>1.179</td>\n",
       "      <td>22.490000</td>\n",
       "      <td>3.462</td>\n",
       "      <td>3.514</td>\n",
       "      <td>15.52</td>\n",
       "      <td>14</td>\n",
       "      <td>0</td>\n",
       "      <td>2</td>\n",
       "      <td>0</td>\n",
       "      <td>10</td>\n",
       "      <td>14</td>\n",
       "      <td>0</td>\n",
       "      <td>0</td>\n",
       "      <td>0</td>\n",
       "    </tr>\n",
       "    <tr>\n",
       "      <th>3</th>\n",
       "      <td>6</td>\n",
       "      <td>0.525</td>\n",
       "      <td>22.200001</td>\n",
       "      <td>3.862</td>\n",
       "      <td>3.612</td>\n",
       "      <td>14.73</td>\n",
       "      <td>18</td>\n",
       "      <td>11</td>\n",
       "      <td>0</td>\n",
       "      <td>0</td>\n",
       "      <td>4</td>\n",
       "      <td>37</td>\n",
       "      <td>0</td>\n",
       "      <td>1</td>\n",
       "      <td>1</td>\n",
       "    </tr>\n",
       "    <tr>\n",
       "      <th>4</th>\n",
       "      <td>5</td>\n",
       "      <td>0.697</td>\n",
       "      <td>23.290001</td>\n",
       "      <td>3.676</td>\n",
       "      <td>3.454</td>\n",
       "      <td>16.16</td>\n",
       "      <td>14</td>\n",
       "      <td>0</td>\n",
       "      <td>0</td>\n",
       "      <td>0</td>\n",
       "      <td>4</td>\n",
       "      <td>4</td>\n",
       "      <td>1</td>\n",
       "      <td>0</td>\n",
       "      <td>0</td>\n",
       "    </tr>\n",
       "  </tbody>\n",
       "</table>\n",
       "</div>"
      ],
      "text/plain": [
       "   AGE  SPHEQ         AL    ACD     LT    VCD  SPORTHR  READHR  COMPHR  \\\n",
       "0    6 -0.052  21.889999  3.690  3.498  14.70       45       8       0   \n",
       "1    6  0.608  22.379999  3.702  3.392  15.29        4       0       1   \n",
       "2    6  1.179  22.490000  3.462  3.514  15.52       14       0       2   \n",
       "3    6  0.525  22.200001  3.862  3.612  14.73       18      11       0   \n",
       "4    5  0.697  23.290001  3.676  3.454  16.16       14       0       0   \n",
       "\n",
       "   STUDYHR  TVHR  DIOPTERHR  MOMMY  DADMY  MYOPIC  \n",
       "0        0    10         34      1      1       1  \n",
       "1        1     7         12      1      1       0  \n",
       "2        0    10         14      0      0       0  \n",
       "3        0     4         37      0      1       1  \n",
       "4        0     4          4      1      0       0  "
      ]
     },
     "execution_count": 2,
     "metadata": {},
     "output_type": "execute_result"
    }
   ],
   "source": [
    "# loading Data\n",
    "df = pd.read_csv('Resources/myopia.csv')\n",
    "df.head()"
   ]
  },
  {
   "cell_type": "code",
   "execution_count": 3,
   "id": "c9732dba",
   "metadata": {},
   "outputs": [
    {
     "data": {
      "text/plain": [
       "AGE          0\n",
       "SPHEQ        0\n",
       "AL           0\n",
       "ACD          0\n",
       "LT           0\n",
       "VCD          0\n",
       "SPORTHR      0\n",
       "READHR       0\n",
       "COMPHR       0\n",
       "STUDYHR      0\n",
       "TVHR         0\n",
       "DIOPTERHR    0\n",
       "MOMMY        0\n",
       "DADMY        0\n",
       "MYOPIC       0\n",
       "dtype: int64"
      ]
     },
     "execution_count": 3,
     "metadata": {},
     "output_type": "execute_result"
    }
   ],
   "source": [
    "# Count of rows with null values\n",
    "df.isnull().sum()"
   ]
  },
  {
   "cell_type": "code",
   "execution_count": 5,
   "id": "b9e95892",
   "metadata": {},
   "outputs": [],
   "source": [
    "# Removing MYOPIC column\n",
    "X = df.drop(['MYOPIC'], axis=1)\n",
    "y = df['MYOPIC']"
   ]
  },
  {
   "cell_type": "code",
   "execution_count": 13,
   "id": "2a1447bf",
   "metadata": {},
   "outputs": [
    {
     "name": "stdout",
     "output_type": "stream",
     "text": [
      "[[-0.42021911 -1.3639169  -0.89286146  0.48378402 -0.28144315 -1.0197916\n",
      "   4.1506609   1.69744958 -0.68931054 -0.67299591  0.18405806  0.49830393]\n",
      " [-0.42021911 -0.30861224 -0.1718398   0.53591028 -0.96799728 -0.13076253\n",
      "  -0.99889822 -0.91206246 -0.36187479 -0.22140908 -0.34093217 -0.87508755]\n",
      " [-0.42021911  0.60438629 -0.00997682 -0.5066285  -0.17781207  0.21580879\n",
      "   0.25709181 -0.91206246 -0.03443904 -0.67299591  0.18405806 -0.75023378]]\n"
     ]
    }
   ],
   "source": [
    "# Scale the data\n",
    "scaler = StandardScaler()\n",
    "scaled_data = scaler.fit_transform(X[['AGE', 'SPHEQ', 'AL', 'ACD', 'LT', 'VCD', 'SPORTHR', 'READHR', 'COMPHR',\n",
    "       'STUDYHR', 'TVHR', 'DIOPTERHR']])\n",
    "print(scaled_data[0:3])"
   ]
  },
  {
   "cell_type": "code",
   "execution_count": 14,
   "id": "566e3afe",
   "metadata": {},
   "outputs": [],
   "source": [
    "# New DF with scaled data\n",
    "new_df = pd.DataFrame(scaled_data, columns=X.columns[:-2])"
   ]
  },
  {
   "cell_type": "code",
   "execution_count": 16,
   "id": "b8ec12cf",
   "metadata": {},
   "outputs": [
    {
     "data": {
      "text/html": [
       "<div>\n",
       "<style scoped>\n",
       "    .dataframe tbody tr th:only-of-type {\n",
       "        vertical-align: middle;\n",
       "    }\n",
       "\n",
       "    .dataframe tbody tr th {\n",
       "        vertical-align: top;\n",
       "    }\n",
       "\n",
       "    .dataframe thead th {\n",
       "        text-align: right;\n",
       "    }\n",
       "</style>\n",
       "<table border=\"1\" class=\"dataframe\">\n",
       "  <thead>\n",
       "    <tr style=\"text-align: right;\">\n",
       "      <th></th>\n",
       "      <th>AGE</th>\n",
       "      <th>SPHEQ</th>\n",
       "      <th>AL</th>\n",
       "      <th>ACD</th>\n",
       "      <th>LT</th>\n",
       "      <th>VCD</th>\n",
       "      <th>SPORTHR</th>\n",
       "      <th>READHR</th>\n",
       "      <th>COMPHR</th>\n",
       "      <th>STUDYHR</th>\n",
       "      <th>TVHR</th>\n",
       "      <th>DIOPTERHR</th>\n",
       "      <th>MOMMY</th>\n",
       "      <th>DADMY</th>\n",
       "    </tr>\n",
       "  </thead>\n",
       "  <tbody>\n",
       "    <tr>\n",
       "      <th>0</th>\n",
       "      <td>-0.420219</td>\n",
       "      <td>-1.363917</td>\n",
       "      <td>-0.892861</td>\n",
       "      <td>0.483784</td>\n",
       "      <td>-0.281443</td>\n",
       "      <td>-1.019792</td>\n",
       "      <td>4.150661</td>\n",
       "      <td>1.697450</td>\n",
       "      <td>-0.689311</td>\n",
       "      <td>-0.672996</td>\n",
       "      <td>0.184058</td>\n",
       "      <td>0.498304</td>\n",
       "      <td>1</td>\n",
       "      <td>1</td>\n",
       "    </tr>\n",
       "    <tr>\n",
       "      <th>1</th>\n",
       "      <td>-0.420219</td>\n",
       "      <td>-0.308612</td>\n",
       "      <td>-0.171840</td>\n",
       "      <td>0.535910</td>\n",
       "      <td>-0.967997</td>\n",
       "      <td>-0.130763</td>\n",
       "      <td>-0.998898</td>\n",
       "      <td>-0.912062</td>\n",
       "      <td>-0.361875</td>\n",
       "      <td>-0.221409</td>\n",
       "      <td>-0.340932</td>\n",
       "      <td>-0.875088</td>\n",
       "      <td>1</td>\n",
       "      <td>1</td>\n",
       "    </tr>\n",
       "    <tr>\n",
       "      <th>2</th>\n",
       "      <td>-0.420219</td>\n",
       "      <td>0.604386</td>\n",
       "      <td>-0.009977</td>\n",
       "      <td>-0.506628</td>\n",
       "      <td>-0.177812</td>\n",
       "      <td>0.215809</td>\n",
       "      <td>0.257092</td>\n",
       "      <td>-0.912062</td>\n",
       "      <td>-0.034439</td>\n",
       "      <td>-0.672996</td>\n",
       "      <td>0.184058</td>\n",
       "      <td>-0.750234</td>\n",
       "      <td>0</td>\n",
       "      <td>0</td>\n",
       "    </tr>\n",
       "    <tr>\n",
       "      <th>3</th>\n",
       "      <td>-0.420219</td>\n",
       "      <td>-0.441325</td>\n",
       "      <td>-0.436703</td>\n",
       "      <td>1.230936</td>\n",
       "      <td>0.456927</td>\n",
       "      <td>-0.974587</td>\n",
       "      <td>0.759488</td>\n",
       "      <td>2.676017</td>\n",
       "      <td>-0.689311</td>\n",
       "      <td>-0.672996</td>\n",
       "      <td>-0.865922</td>\n",
       "      <td>0.685585</td>\n",
       "      <td>0</td>\n",
       "      <td>1</td>\n",
       "    </tr>\n",
       "    <tr>\n",
       "      <th>4</th>\n",
       "      <td>-1.823978</td>\n",
       "      <td>-0.166306</td>\n",
       "      <td>1.167204</td>\n",
       "      <td>0.422970</td>\n",
       "      <td>-0.566427</td>\n",
       "      <td>1.180178</td>\n",
       "      <td>0.257092</td>\n",
       "      <td>-0.912062</td>\n",
       "      <td>-0.689311</td>\n",
       "      <td>-0.672996</td>\n",
       "      <td>-0.865922</td>\n",
       "      <td>-1.374503</td>\n",
       "      <td>1</td>\n",
       "      <td>0</td>\n",
       "    </tr>\n",
       "  </tbody>\n",
       "</table>\n",
       "</div>"
      ],
      "text/plain": [
       "        AGE     SPHEQ        AL       ACD        LT       VCD   SPORTHR  \\\n",
       "0 -0.420219 -1.363917 -0.892861  0.483784 -0.281443 -1.019792  4.150661   \n",
       "1 -0.420219 -0.308612 -0.171840  0.535910 -0.967997 -0.130763 -0.998898   \n",
       "2 -0.420219  0.604386 -0.009977 -0.506628 -0.177812  0.215809  0.257092   \n",
       "3 -0.420219 -0.441325 -0.436703  1.230936  0.456927 -0.974587  0.759488   \n",
       "4 -1.823978 -0.166306  1.167204  0.422970 -0.566427  1.180178  0.257092   \n",
       "\n",
       "     READHR    COMPHR   STUDYHR      TVHR  DIOPTERHR  MOMMY  DADMY  \n",
       "0  1.697450 -0.689311 -0.672996  0.184058   0.498304      1      1  \n",
       "1 -0.912062 -0.361875 -0.221409 -0.340932  -0.875088      1      1  \n",
       "2 -0.912062 -0.034439 -0.672996  0.184058  -0.750234      0      0  \n",
       "3  2.676017 -0.689311 -0.672996 -0.865922   0.685585      0      1  \n",
       "4 -0.912062 -0.689311 -0.672996 -0.865922  -1.374503      1      0  "
      ]
     },
     "execution_count": 16,
     "metadata": {},
     "output_type": "execute_result"
    }
   ],
   "source": [
    "# Adding binary columns back to df\n",
    "new_df['MOMMY'] = X['MOMMY']\n",
    "new_df['DADMY'] = X['DADMY']\n",
    "new_df.head()"
   ]
  },
  {
   "cell_type": "markdown",
   "id": "e55fe2dc",
   "metadata": {},
   "source": [
    "## Part 2 : Applying Demensionality Reduction"
   ]
  },
  {
   "cell_type": "code",
   "execution_count": 20,
   "id": "2d764808",
   "metadata": {},
   "outputs": [
    {
     "data": {
      "text/plain": [
       "(618, 9)"
      ]
     },
     "execution_count": 20,
     "metadata": {},
     "output_type": "execute_result"
    }
   ],
   "source": [
    "# Initialize PCA model\n",
    "pca = PCA(n_components=.90)\n",
    "# Get principal components for the data\n",
    "df_pca = pca.fit_transform(new_df)\n",
    "df_pca.shape"
   ]
  },
  {
   "cell_type": "markdown",
   "id": "9a838047",
   "metadata": {},
   "source": [
    "Number of features reduced down to 9"
   ]
  },
  {
   "cell_type": "code",
   "execution_count": 21,
   "id": "6df5f039",
   "metadata": {},
   "outputs": [
    {
     "data": {
      "text/plain": [
       "array([0.23709653, 0.17470773, 0.09439418, 0.08260749, 0.07899141,\n",
       "       0.07203043, 0.07101828, 0.05837071, 0.0488404 ])"
      ]
     },
     "execution_count": 21,
     "metadata": {},
     "output_type": "execute_result"
    }
   ],
   "source": [
    "# Fetch the explained variance\n",
    "pca.explained_variance_ratio_"
   ]
  },
  {
   "cell_type": "code",
   "execution_count": 22,
   "id": "425df4b2",
   "metadata": {},
   "outputs": [],
   "source": [
    "# Initialize t-SNE model\n",
    "tsne = TSNE(learning_rate=300)"
   ]
  },
  {
   "cell_type": "code",
   "execution_count": 23,
   "id": "c78ede48",
   "metadata": {},
   "outputs": [
    {
     "data": {
      "text/plain": [
       "(618, 2)"
      ]
     },
     "execution_count": 23,
     "metadata": {},
     "output_type": "execute_result"
    }
   ],
   "source": [
    "# Reduce dimensions\n",
    "tsne_features = tsne.fit_transform(df_pca)\n",
    "tsne_features.shape"
   ]
  },
  {
   "cell_type": "code",
   "execution_count": 24,
   "id": "71ddb51d",
   "metadata": {},
   "outputs": [
    {
     "data": {
      "image/png": "[encoded data removed]",
      "text/plain": [
       "<Figure size 432x288 with 1 Axes>"
      ]
     },
     "metadata": {
      "needs_background": "light"
     },
     "output_type": "display_data"
    }
   ],
   "source": [
    "# Creating scatter plot\n",
    "plt.scatter(tsne_features[:,0], tsne_features[:,1])\n",
    "plt.show()"
   ]
  },
  {
   "cell_type": "markdown",
   "id": "be30f386",
   "metadata": {},
   "source": [
    "There appears to be two clusters, not very noticable though. "
   ]
  },
  {
   "cell_type": "markdown",
   "id": "c994ec8e",
   "metadata": {},
   "source": [
    "## Part 3: Cluster Analysis with K-means"
   ]
  },
  {
   "cell_type": "code",
   "execution_count": null,
   "id": "871d453e",
   "metadata": {},
   "outputs": [],
   "source": []
  }
 ],
 "metadata": {
  "kernelspec": {
   "display_name": "Python [conda env:PythonData38] *",
   "language": "python",
   "name": "conda-env-PythonData38-py"
  },
  "language_info": {
   "codemirror_mode": {
    "name": "ipython",
    "version": 3
   },
   "file_extension": ".py",
   "mimetype": "text/x-python",
   "name": "python",
   "nbconvert_exporter": "python",
   "pygments_lexer": "ipython3",
   "version": "3.8.12"
  }
 },
 "nbformat": 4,
 "nbformat_minor": 5
}
